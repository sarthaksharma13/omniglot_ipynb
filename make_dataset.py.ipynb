{
 "cells": [
  {
   "cell_type": "code",
   "execution_count": null,
   "metadata": {},
   "outputs": [],
   "source": [
    "# Preprocess dataset to make data loading easier.\n",
    "import shutil\n",
    "import sys\n",
    "import os\n",
    "\n",
    "# The arguements are the path to the dataset\n",
    "# First argument is the path to unzipped data\n",
    "# Second arguement is path to empty directory where the the processed data would be stored.\n",
    "# Usage example : python3 make_dataset.py images_background background\n",
    "# Usage example : python3 make_dataset.py images_evaluation evaluation\n",
    "data_path_read = sys.argv[1]\n",
    "data_path_write = sys.argv[2]\n",
    "\n",
    "for alphabeta in os.listdir(data_path_read):\n",
    "    alphabeta_path = os.path.join(data_path_read, alphabeta)\n",
    "    path_write1 = data_path_write[:-2] + '-' + alphabeta\n",
    "    for charactor in os.listdir(alphabeta_path):\n",
    "        charactor_path = os.path.join(alphabeta_path, charactor)\n",
    "        path_write2 = path_write1 + '-' + charactor\n",
    "        if not os.path.exists(os.path.join(data_path_write, path_write2)):\n",
    "        \tos.makedirs(os.path.join(data_path_write, path_write2))\n",
    "        for drawer in os.listdir(charactor_path):\n",
    "            drawer_path = os.path.join(charactor_path, drawer)\n",
    "            shutil.copyfile(drawer_path, os.path.join(data_path_write, path_write2, drawer))\n"
   ]
  }
 ],
 "metadata": {},
 "nbformat": 4,
 "nbformat_minor": 2
}
